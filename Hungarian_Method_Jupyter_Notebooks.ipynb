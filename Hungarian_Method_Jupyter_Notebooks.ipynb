{
  "cells": [
    {
      "cell_type": "code",
      "execution_count": 8,
      "metadata": {
        "colab": {
          "base_uri": "https://localhost:8080/"
        },
        "id": "qRpghbq2Dt2E",
        "outputId": "062c321c-7162-4698-c1b8-14a4af29ded1"
      },
      "outputs": [
        {
          "name": "stdout",
          "output_type": "stream",
          "text": [
            "Cost Function 1:\n",
            "tensor([[ 90.,  75.,  75.,  80.],\n",
            "        [ 35.,  85.,  55.,  65.],\n",
            "        [125.,  95.,  90., 105.],\n",
            "        [ 45., 110.,  95., 115.]])\n",
            "Cost Function 2:\n",
            "tensor([[ 1.,  8., 15., 22.],\n",
            "        [13., 18., 23., 28.],\n",
            "        [13., 18., 23., 28.],\n",
            "        [19., 23., 27., 31.]])\n"
          ]
        }
      ],
      "source": [
        "#-*-coding:utf-8-*-\n",
        "import torch\n",
        "Cost_function1 = torch.tensor([[90.0, 75.0, 75.0, 80.0], [35.0, 85.0, 55.0, 65.0], [125., 95., 90., 105.], [45.0, 110.0, 95.0, 115.0]])\n",
        "Cost_function2 = torch.tensor([[1., 8., 15., 22.], [13., 18., 23., 28.], [13., 18., 23., 28.], [19., 23., 27., 31.]])\n",
        "print(f\"Cost Function 1:\\n{Cost_function1}\")\n",
        "print(f\"Cost Function 2:\\n{Cost_function2}\")"
      ]
    },
    {
      "cell_type": "code",
      "execution_count": 3,
      "metadata": {
        "id": "WIxn5cTIDxkr"
      },
      "outputs": [],
      "source": [
        "#steps 1 & 2 of the Hungarian Algorithm\n",
        "def init_candidate_solution(cost_matrix:torch.tensor) -> torch.tensor:\n",
        "  #step 1\n",
        "  (min_rows,_) = torch.min(cost_matrix, 1, True)\n",
        "  cost_matrix_step1 = cost_matrix - min_rows\n",
        "  #print(f\"Min step1:\\n{cost_matrix_step1}\")\n",
        "  #step 2\n",
        "  (min_colums,_) = torch.min(cost_matrix_step1, 0, True)\n",
        "  cost_matrix_step2 = cost_matrix_step1 - min_colums\n",
        "  #print(f\"Min step2:\\n{cost_matrix_step2}\")\n",
        "  return cost_matrix_step2"
      ]
    },
    {
      "cell_type": "code",
      "execution_count": 4,
      "metadata": {
        "id": "wQIx2CSqD-zj"
      },
      "outputs": [],
      "source": [
        "#step 3 & 4 of the Hungarian Algorithm\n",
        "def evaluate_optimality_criteria(Cost_matrix: torch.tensor) -> (bool, list, list):\n",
        "  Zeros_positions = (Cost_matrix == 0).nonzero(as_tuple = True)\n",
        "  \n",
        "  #marked with 0\n",
        "  zeros_marked_by_line = torch.ones(Zeros_positions[0].shape, dtype=torch.bool)\n",
        "  rows_marked = []\n",
        "  cols_marked = []\n",
        "  while (torch.sum(zeros_marked_by_line) > 0):\n",
        "    (max_zeroes_row, ind_row) = Zeros_positions[0][zeros_marked_by_line].mode()\n",
        "    (max_zeroes_col, ind_col) = Zeros_positions[1][zeros_marked_by_line].mode()\n",
        "    freq_row = (Zeros_positions[0].eq(max_zeroes_row)).sum()\n",
        "    freq_col = (Zeros_positions[1].eq(max_zeroes_col)).sum()\n",
        "\n",
        "    if (freq_row >= freq_col):\n",
        "      rows_marked.append(int(max_zeroes_row))\n",
        "      zeros_marked_by_line[Zeros_positions[0] == max_zeroes_row] = 0\n",
        "    else:\n",
        "      cols_marked.append(int(max_zeroes_col))\n",
        "      zeros_marked_by_line[Zeros_positions[1] == max_zeroes_col] = 0\n",
        "\n",
        "  return len(rows_marked)+len(cols_marked) >= Cost_matrix.size(0), rows_marked, cols_marked"
      ]
    },
    {
      "cell_type": "code",
      "execution_count": 5,
      "metadata": {
        "id": "nc38IWgLEDzH"
      },
      "outputs": [],
      "source": [
        "#step 5 of the Hungarian Algorithm\n",
        "def Update_Cost_Matrix(cost_matrix:torch.tensor, rows_marked:list, cols_marked:list)->torch.tensor:\n",
        "  #define the minimum scalar value of the cost matrix with the rows and columns marked\n",
        "  min_val = torch.min(cost_matrix[~torch.isin(torch.arange(cost_matrix.size(0)), torch.tensor(rows_marked)),:][:,~torch.isin(torch.arange(cost_matrix.size(1)), torch.tensor(cols_marked))])\n",
        "  #print(f\"Min cost: {min_val}\")\n",
        "  cost_matrix[~torch.isin(torch.arange(cost_matrix.size(0)), torch.tensor(rows_marked)),:] = cost_matrix[~torch.isin(torch.arange(cost_matrix.size(0)), torch.tensor(rows_marked)),:] - min_val\n",
        "  cost_matrix[:,torch.isin(torch.arange(cost_matrix.size(1)), torch.tensor(cols_marked))] = cost_matrix[:,torch.isin(torch.arange(cost_matrix.size(1)), torch.tensor(cols_marked))] + min_val\n",
        "  #print(cost_matrix)\n",
        "  return cost_matrix"
      ]
    },
    {
      "cell_type": "code",
      "execution_count": 6,
      "metadata": {
        "id": "OdgsJ-raEItM"
      },
      "outputs": [],
      "source": [
        "def assesment(cost_function:torch.tensor, cost_matrix:torch.tensor) -> list:\n",
        "  solution = []\n",
        "  positions = (cost_matrix == 0).nonzero(as_tuple = True)\n",
        "  while positions[0].size()[0] > 0:\n",
        "      #find row\n",
        "      _, assess = torch.unique_consecutive(positions[0], return_counts=True)\n",
        "      min, index = torch.min(assess, 0)\n",
        "      one_zero_row = positions[0][torch.sum(assess[:index])]\n",
        "      one_zero_column = positions[1][torch.sum(assess[:index])]\n",
        "    \n",
        "      #add solution\n",
        "      solution.append(cost_function[one_zero_row, one_zero_column])\n",
        "      #remove row\n",
        "      all_zeros_in_row = torch.isin(positions[0], one_zero_row)\n",
        "      positions = (positions[0][all_zeros_in_row.logical_not()], positions[1][all_zeros_in_row.logical_not()])\n",
        "      #remove column\n",
        "      all_zeros_in_col = torch.isin(positions[1], one_zero_column)\n",
        "      positions = (positions[0][all_zeros_in_col.logical_not()], positions[1][all_zeros_in_col.logical_not()])\n",
        "  return solution"
      ]
    },
    {
      "cell_type": "code",
      "execution_count": 7,
      "metadata": {
        "colab": {
          "base_uri": "https://localhost:8080/"
        },
        "id": "rq4xRpVJG08x",
        "outputId": "d9ac2541-83eb-4625-c1b9-d41ff9d6f9d8"
      },
      "outputs": [
        {
          "name": "stdout",
          "output_type": "stream",
          "text": [
            "First\n",
            "\ttensor([[ 90.,  75.,  75.,  80.],\n",
            "        [ 35.,  85.,  55.,  65.],\n",
            "        [125.,  95.,  90., 105.],\n",
            "        [ 45., 110.,  95., 115.]])\n",
            "Initialized Solution:\n",
            "\ttensor([[15.,  0.,  0.,  0.],\n",
            "        [ 0., 50., 20., 25.],\n",
            "        [35.,  5.,  0., 10.],\n",
            "        [ 0., 65., 50., 65.]])\n",
            "\n",
            "Is optimal? \tFalse\n",
            "Rows marked: \t[0]\n",
            "Cols marked: \t[0, 2]\n",
            "new iteration \n",
            "tensor([[20.,  0.,  5.,  0.],\n",
            "        [ 0., 45., 20., 20.],\n",
            "        [35.,  0.,  0.,  5.],\n",
            "        [ 0., 60., 50., 60.]])\n",
            "\n",
            "Is optimal? \tFalse\n",
            "Rows marked: \t[0, 2]\n",
            "Cols marked: \t[0]\n",
            "new iteration \n",
            "tensor([[40.,  0.,  5.,  0.],\n",
            "        [ 0., 25.,  0.,  0.],\n",
            "        [55.,  0.,  0.,  5.],\n",
            "        [ 0., 40., 30., 40.]])\n",
            "\n",
            "Optimal = True\n",
            "Assesments: \t[tensor(45.), tensor(75.), tensor(90.), tensor(65.)]\n",
            "Solution:\t275.0\n",
            "First\n",
            "\ttensor([[ 1.,  8., 15., 22.],\n",
            "        [13., 18., 23., 28.],\n",
            "        [13., 18., 23., 28.],\n",
            "        [19., 23., 27., 31.]])\n",
            "Initialized Solution:\n",
            "\ttensor([[0., 3., 6., 9.],\n",
            "        [0., 1., 2., 3.],\n",
            "        [0., 1., 2., 3.],\n",
            "        [0., 0., 0., 0.]])\n",
            "\n",
            "Is optimal? \tFalse\n",
            "Rows marked: \t[3]\n",
            "Cols marked: \t[0]\n",
            "new iteration \n",
            "tensor([[0., 2., 5., 8.],\n",
            "        [0., 0., 1., 2.],\n",
            "        [0., 0., 1., 2.],\n",
            "        [1., 0., 0., 0.]])\n",
            "\n",
            "Is optimal? \tFalse\n",
            "Rows marked: \t[3]\n",
            "Cols marked: \t[0, 1]\n",
            "new iteration \n",
            "tensor([[0., 2., 4., 7.],\n",
            "        [0., 0., 0., 1.],\n",
            "        [0., 0., 0., 1.],\n",
            "        [2., 1., 0., 0.]])\n",
            "\n",
            "Optimal = True\n",
            "Assesments: \t[tensor(1.), tensor(18.), tensor(23.), tensor(31.)]\n",
            "Solution:\t73.0\n"
          ]
        }
      ],
      "source": [
        "def run_hungarian_algorithm(cost_matrix: torch.tensor) -> None:\n",
        "  print(f\"First\\n\\t{cost_matrix}\")\n",
        "  cost_matrix_step2 = init_candidate_solution(cost_matrix)\n",
        "  print(f\"Initialized Solution:\\n\\t{cost_matrix_step2}\\n\")\n",
        "  v,rows_marked, cols_marked = evaluate_optimality_criteria (cost_matrix_step2)\n",
        "  new_matrix = cost_matrix_step2\n",
        "  while not v:\n",
        "    print(f\"Is optimal? \\t{v}\")\n",
        "    print(f\"Rows marked: \\t{rows_marked}\")\n",
        "    print(f\"Cols marked: \\t{cols_marked}\")\n",
        "    new_matrix = Update_Cost_Matrix(new_matrix, rows_marked, cols_marked)\n",
        "    print(f\"new iteration \\n{new_matrix}\\n\")\n",
        "    v,rows_marked, cols_marked= evaluate_optimality_criteria(new_matrix)\n",
        "    if v:\n",
        "      print(f\"Optimal = {v}\")\n",
        "    sol = assesment(cost_matrix, new_matrix)\n",
        "  print(f\"Assesments: \\t{sol}\")\n",
        "  print(f\"Solution:\\t{torch.sum(torch.stack(sol)).item()}\")\n",
        "\n",
        "run_hungarian_algorithm(Cost_function1)\n",
        "run_hungarian_algorithm(Cost_function2)"
      ]
    }
  ],
  "metadata": {
    "colab": {
      "provenance": []
    },
    "kernelspec": {
      "display_name": "Python 3.9 (pytorch)",
      "language": "python",
      "name": "pytorch"
    },
    "language_info": {
      "codemirror_mode": {
        "name": "ipython",
        "version": 3
      },
      "file_extension": ".py",
      "mimetype": "text/x-python",
      "name": "python",
      "nbconvert_exporter": "python",
      "pygments_lexer": "ipython3",
      "version": "3.10.9"
    }
  },
  "nbformat": 4,
  "nbformat_minor": 0
}
